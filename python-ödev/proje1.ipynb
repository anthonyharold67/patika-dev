{
 "cells": [
  {
   "cell_type": "code",
   "execution_count": 3,
   "id": "422f77ec",
   "metadata": {},
   "outputs": [],
   "source": [
    "# 1- Bir listeyi düzleştiren (flatten) fonksiyon yazın. Elemanları birden çok katmanlı listelerden ([[3],2] gibi)\n",
    "# oluşabileceği gibi, non-scalar verilerden de oluşabilir. Örnek olarak:\n",
    "\n",
    "# input: [[1,'a',['cat'],2],[[[3]],'dog'],4,5]\n",
    "\n",
    "# output: [1,'a','cat',2,3,'dog',4,5]\n",
    "\n",
    "# 2- Verilen listenin içindeki elemanları tersine döndüren bir fonksiyon yazın. Eğer listenin içindeki elemanlar da liste \n",
    "# içeriyorsa onların elemanlarını da tersine döndürün. Örnek olarak:\n",
    "\n",
    "# input: [[1, 2], [3, 4], [5, 6, 7]]\n",
    "\n",
    "# output: [[[7, 6, 5], [4, 3], [2, 1]]"
   ]
  },
  {
   "cell_type": "code",
   "execution_count": 8,
   "id": "7fb55619",
   "metadata": {},
   "outputs": [],
   "source": [
    "#1.soru\n",
    "def my_func(liste):\n",
    "    my_liste = str(liste).replace(\"[\",\"\").replace(\"]\",\"\").split(\",\")\n",
    "    return my_liste\n",
    "                \n",
    "            "
   ]
  },
  {
   "cell_type": "code",
   "execution_count": 9,
   "id": "271a9f1a",
   "metadata": {},
   "outputs": [
    {
     "name": "stdout",
     "output_type": "stream",
     "text": [
      "['1', \" 'a'\", \" 'cat'\", ' 2', ' 3', \" 'dog'\", ' 4', ' 5']\n"
     ]
    }
   ],
   "source": [
    "print(my_func([[1,'a',['cat'],2],[[[3]],'dog'],4,5]))"
   ]
  },
  {
   "cell_type": "code",
   "execution_count": 10,
   "id": "77e57fba",
   "metadata": {},
   "outputs": [],
   "source": [
    "#2.soru\n",
    "def sort_liste(liste):\n",
    "    liste.reverse()\n",
    "    for i in liste:\n",
    "        i.reverse()\n",
    "    return liste"
   ]
  },
  {
   "cell_type": "code",
   "execution_count": 11,
   "id": "762d1baa",
   "metadata": {},
   "outputs": [
    {
     "name": "stdout",
     "output_type": "stream",
     "text": [
      "[[7, 6, 5], [4, 3], [2, 1]]\n"
     ]
    }
   ],
   "source": [
    "print(sort_liste([[1, 2], [3, 4], [5, 6, 7]]))"
   ]
  }
 ],
 "metadata": {
  "kernelspec": {
   "display_name": "Python 3",
   "language": "python",
   "name": "python3"
  },
  "language_info": {
   "codemirror_mode": {
    "name": "ipython",
    "version": 3
   },
   "file_extension": ".py",
   "mimetype": "text/x-python",
   "name": "python",
   "nbconvert_exporter": "python",
   "pygments_lexer": "ipython3",
   "version": "3.8.8"
  }
 },
 "nbformat": 4,
 "nbformat_minor": 5
}
